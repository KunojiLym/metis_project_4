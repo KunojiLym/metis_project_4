{
 "cells": [
  {
   "cell_type": "markdown",
   "metadata": {},
   "source": [
    "# 1. Library prep"
   ]
  },
  {
   "cell_type": "code",
   "execution_count": 2,
   "metadata": {},
   "outputs": [],
   "source": [
    "import pandas as pd\n",
    "import numpy as np\n"
   ]
  },
  {
   "cell_type": "markdown",
   "metadata": {},
   "source": [
    "# 2. Data loading and initial inspection"
   ]
  },
  {
   "cell_type": "markdown",
   "metadata": {},
   "source": [
    "From the README:\n",
    "\n",
    "- Column 1: the ID of the statement ([ID].json).\n",
    "- Column 2: the label.\n",
    "- Column 3: the statement.\n",
    "- Column 4: the subject(s).\n",
    "- Column 5: the speaker.\n",
    "- Column 6: the speaker's job title.\n",
    "- Column 7: the state info.\n",
    "- Column 8: the party affiliation.\n",
    "- Column 9-13: the total credit history count, including the current statement.\n",
    "  - 9: barely true counts.\n",
    "  - 10: false counts.\n",
    "  - 11: half true counts.\n",
    "  - 12: mostly true counts.\n",
    "  - 13: pants on fire counts.\n",
    "- Column 14: the context (venue / location of the speech or statement)."
   ]
  },
  {
   "cell_type": "code",
   "execution_count": 6,
   "metadata": {},
   "outputs": [
    {
     "output_type": "execute_result",
     "data": {
      "text/plain": "               id        label  \\\n0       2635.json        false   \n1      10540.json    half-true   \n2        324.json  mostly-true   \n3       1123.json        false   \n4       9028.json    half-true   \n...           ...          ...   \n10235   5473.json  mostly-true   \n10236   3408.json  mostly-true   \n10237   3959.json    half-true   \n10238   2253.json        false   \n10239   1155.json   pants-fire   \n\n                                               statement  \\\n0      Says the Annies List political group supports ...   \n1      When did the decline of coal start? It started...   \n2      Hillary Clinton agrees with John McCain \"by vo...   \n3      Health care reform legislation is likely to ma...   \n4      The economic turnaround started at the end of ...   \n...                                                  ...   \n10235  There are a larger number of shark attacks in ...   \n10236  Democrats have now become the party of the [At...   \n10237  Says an alternative to Social Security that op...   \n10238  On lifting the U.S. Cuban embargo and allowing...   \n10239  The Department of Veterans Affairs has a manua...   \n\n                                 subjects         speaker  \\\n0                                abortion    dwayne-bohac   \n1      energy,history,job-accomplishments  scott-surovell   \n2                          foreign-policy    barack-obama   \n3                             health-care    blog-posting   \n4                            economy,jobs   charlie-crist   \n...                                   ...             ...   \n10235                   animals,elections    aclu-florida   \n10236                           elections     alan-powell   \n10237          retirement,social-security     herman-cain   \n10238              florida,foreign-policy     jeff-greene   \n10239                health-care,veterans  michael-steele   \n\n                                         speaker_job speaker_us_state  \\\n0                               State representative            Texas   \n1                                     State delegate         Virginia   \n2                                          President         Illinois   \n3                                                NaN              NaN   \n4                                                NaN          Florida   \n...                                              ...              ...   \n10235                                            NaN          Florida   \n10236                                            NaN          Georgia   \n10237                                            NaN          Georgia   \n10238                                            NaN          Florida   \n10239  chairman of the Republican National Committee         Maryland   \n\n      speaker_party_affiliation  speaker_bt  speaker_f  speaker_ht  \\\n0                    republican         0.0        1.0         0.0   \n1                      democrat         0.0        0.0         1.0   \n2                      democrat        70.0       71.0       160.0   \n3                          none         7.0       19.0         3.0   \n4                      democrat        15.0        9.0        20.0   \n...                         ...         ...        ...         ...   \n10235                      none         0.0        1.0         1.0   \n10236                republican         0.0        0.0         0.0   \n10237                republican         4.0       11.0         5.0   \n10238                  democrat         3.0        1.0         3.0   \n10239                republican         0.0        1.0         1.0   \n\n       speaker_mt  speaker_pof  \\\n0             0.0          0.0   \n1             1.0          0.0   \n2           163.0          9.0   \n3             5.0         44.0   \n4            19.0          2.0   \n...           ...          ...   \n10235         1.0          0.0   \n10236         1.0          0.0   \n10237         3.0          3.0   \n10238         0.0          0.0   \n10239         0.0          2.0   \n\n                                                 context  \n0                                               a mailer  \n1                                        a floor speech.  \n2                                                 Denver  \n3                                         a news release  \n4                                    an interview on CNN  \n...                                                  ...  \n10235                  interview on \"The Colbert Report\"  \n10236                                       an interview  \n10237                   a Republican presidential debate  \n10238  a televised debate on Miami's WPLG-10 against ...  \n10239                               a Fox News interview  \n\n[10240 rows x 14 columns]",
      "text/html": "<div>\n<style scoped>\n    .dataframe tbody tr th:only-of-type {\n        vertical-align: middle;\n    }\n\n    .dataframe tbody tr th {\n        vertical-align: top;\n    }\n\n    .dataframe thead th {\n        text-align: right;\n    }\n</style>\n<table border=\"1\" class=\"dataframe\">\n  <thead>\n    <tr style=\"text-align: right;\">\n      <th></th>\n      <th>id</th>\n      <th>label</th>\n      <th>statement</th>\n      <th>subjects</th>\n      <th>speaker</th>\n      <th>speaker_job</th>\n      <th>speaker_us_state</th>\n      <th>speaker_party_affiliation</th>\n      <th>speaker_bt</th>\n      <th>speaker_f</th>\n      <th>speaker_ht</th>\n      <th>speaker_mt</th>\n      <th>speaker_pof</th>\n      <th>context</th>\n    </tr>\n  </thead>\n  <tbody>\n    <tr>\n      <th>0</th>\n      <td>2635.json</td>\n      <td>false</td>\n      <td>Says the Annies List political group supports ...</td>\n      <td>abortion</td>\n      <td>dwayne-bohac</td>\n      <td>State representative</td>\n      <td>Texas</td>\n      <td>republican</td>\n      <td>0.0</td>\n      <td>1.0</td>\n      <td>0.0</td>\n      <td>0.0</td>\n      <td>0.0</td>\n      <td>a mailer</td>\n    </tr>\n    <tr>\n      <th>1</th>\n      <td>10540.json</td>\n      <td>half-true</td>\n      <td>When did the decline of coal start? It started...</td>\n      <td>energy,history,job-accomplishments</td>\n      <td>scott-surovell</td>\n      <td>State delegate</td>\n      <td>Virginia</td>\n      <td>democrat</td>\n      <td>0.0</td>\n      <td>0.0</td>\n      <td>1.0</td>\n      <td>1.0</td>\n      <td>0.0</td>\n      <td>a floor speech.</td>\n    </tr>\n    <tr>\n      <th>2</th>\n      <td>324.json</td>\n      <td>mostly-true</td>\n      <td>Hillary Clinton agrees with John McCain \"by vo...</td>\n      <td>foreign-policy</td>\n      <td>barack-obama</td>\n      <td>President</td>\n      <td>Illinois</td>\n      <td>democrat</td>\n      <td>70.0</td>\n      <td>71.0</td>\n      <td>160.0</td>\n      <td>163.0</td>\n      <td>9.0</td>\n      <td>Denver</td>\n    </tr>\n    <tr>\n      <th>3</th>\n      <td>1123.json</td>\n      <td>false</td>\n      <td>Health care reform legislation is likely to ma...</td>\n      <td>health-care</td>\n      <td>blog-posting</td>\n      <td>NaN</td>\n      <td>NaN</td>\n      <td>none</td>\n      <td>7.0</td>\n      <td>19.0</td>\n      <td>3.0</td>\n      <td>5.0</td>\n      <td>44.0</td>\n      <td>a news release</td>\n    </tr>\n    <tr>\n      <th>4</th>\n      <td>9028.json</td>\n      <td>half-true</td>\n      <td>The economic turnaround started at the end of ...</td>\n      <td>economy,jobs</td>\n      <td>charlie-crist</td>\n      <td>NaN</td>\n      <td>Florida</td>\n      <td>democrat</td>\n      <td>15.0</td>\n      <td>9.0</td>\n      <td>20.0</td>\n      <td>19.0</td>\n      <td>2.0</td>\n      <td>an interview on CNN</td>\n    </tr>\n    <tr>\n      <th>...</th>\n      <td>...</td>\n      <td>...</td>\n      <td>...</td>\n      <td>...</td>\n      <td>...</td>\n      <td>...</td>\n      <td>...</td>\n      <td>...</td>\n      <td>...</td>\n      <td>...</td>\n      <td>...</td>\n      <td>...</td>\n      <td>...</td>\n      <td>...</td>\n    </tr>\n    <tr>\n      <th>10235</th>\n      <td>5473.json</td>\n      <td>mostly-true</td>\n      <td>There are a larger number of shark attacks in ...</td>\n      <td>animals,elections</td>\n      <td>aclu-florida</td>\n      <td>NaN</td>\n      <td>Florida</td>\n      <td>none</td>\n      <td>0.0</td>\n      <td>1.0</td>\n      <td>1.0</td>\n      <td>1.0</td>\n      <td>0.0</td>\n      <td>interview on \"The Colbert Report\"</td>\n    </tr>\n    <tr>\n      <th>10236</th>\n      <td>3408.json</td>\n      <td>mostly-true</td>\n      <td>Democrats have now become the party of the [At...</td>\n      <td>elections</td>\n      <td>alan-powell</td>\n      <td>NaN</td>\n      <td>Georgia</td>\n      <td>republican</td>\n      <td>0.0</td>\n      <td>0.0</td>\n      <td>0.0</td>\n      <td>1.0</td>\n      <td>0.0</td>\n      <td>an interview</td>\n    </tr>\n    <tr>\n      <th>10237</th>\n      <td>3959.json</td>\n      <td>half-true</td>\n      <td>Says an alternative to Social Security that op...</td>\n      <td>retirement,social-security</td>\n      <td>herman-cain</td>\n      <td>NaN</td>\n      <td>Georgia</td>\n      <td>republican</td>\n      <td>4.0</td>\n      <td>11.0</td>\n      <td>5.0</td>\n      <td>3.0</td>\n      <td>3.0</td>\n      <td>a Republican presidential debate</td>\n    </tr>\n    <tr>\n      <th>10238</th>\n      <td>2253.json</td>\n      <td>false</td>\n      <td>On lifting the U.S. Cuban embargo and allowing...</td>\n      <td>florida,foreign-policy</td>\n      <td>jeff-greene</td>\n      <td>NaN</td>\n      <td>Florida</td>\n      <td>democrat</td>\n      <td>3.0</td>\n      <td>1.0</td>\n      <td>3.0</td>\n      <td>0.0</td>\n      <td>0.0</td>\n      <td>a televised debate on Miami's WPLG-10 against ...</td>\n    </tr>\n    <tr>\n      <th>10239</th>\n      <td>1155.json</td>\n      <td>pants-fire</td>\n      <td>The Department of Veterans Affairs has a manua...</td>\n      <td>health-care,veterans</td>\n      <td>michael-steele</td>\n      <td>chairman of the Republican National Committee</td>\n      <td>Maryland</td>\n      <td>republican</td>\n      <td>0.0</td>\n      <td>1.0</td>\n      <td>1.0</td>\n      <td>0.0</td>\n      <td>2.0</td>\n      <td>a Fox News interview</td>\n    </tr>\n  </tbody>\n</table>\n<p>10240 rows × 14 columns</p>\n</div>"
     },
     "metadata": {},
     "execution_count": 6
    }
   ],
   "source": [
    "# read the LIAR dataset\n",
    "\n",
    "liar_column_headers = ['id', 'label', 'statement', 'subjects', 'speaker', 'speaker_job', 'speaker_us_state', 'speaker_party_affiliation', \n",
    "                        'speaker_bt', 'speaker_f', 'speaker_ht', 'speaker_mt', 'speaker_pof', 'context']\n",
    "liar_train = pd.read_csv(\"./data/liar_dataset/train.tsv\", sep='\\t', names=liar_column_headers)\n",
    "\n",
    "liar_train"
   ]
  },
  {
   "cell_type": "code",
   "execution_count": null,
   "metadata": {},
   "outputs": [],
   "source": []
  }
 ],
 "metadata": {
  "language_info": {
   "codemirror_mode": {
    "name": "ipython",
    "version": 3
   },
   "file_extension": ".py",
   "mimetype": "text/x-python",
   "name": "python",
   "nbconvert_exporter": "python",
   "pygments_lexer": "ipython3",
   "version": "3.7.6-final"
  },
  "orig_nbformat": 2,
  "kernelspec": {
   "name": "python3",
   "display_name": "Python 3"
  }
 },
 "nbformat": 4,
 "nbformat_minor": 2
}